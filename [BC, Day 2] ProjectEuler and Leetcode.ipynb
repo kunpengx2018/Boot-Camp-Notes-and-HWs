{
 "cells": [
  {
   "cell_type": "code",
   "execution_count": 3,
   "metadata": {},
   "outputs": [
    {
     "name": "stdout",
     "output_type": "stream",
     "text": [
      "[0, 1]\n"
     ]
    }
   ],
   "source": [
    "nums = [2,7,11,15]\n",
    "target = 9\n",
    "indlist = []\n",
    "#numbers_seen = {}\n",
    "for i in range(len(nums)):\n",
    "    if target - nums[i] in nums:\n",
    "#        numbers_seen[num[i]] = i\n",
    "        indlist.append(i)\n",
    "print(indlist)"
   ]
  },
  {
   "cell_type": "code",
   "execution_count": 30,
   "metadata": {},
   "outputs": [
    {
     "data": {
      "text/plain": [
       "[1, 3]"
      ]
     },
     "execution_count": 30,
     "metadata": {},
     "output_type": "execute_result"
    }
   ],
   "source": [
    "# find adding-factors of a given target number from a list\n",
    "def indices_for_sum(nums, target):\n",
    "    numbers_seen = {}\n",
    "    for i in range(len(nums)):\n",
    "        if target - nums[i] in numbers_seen:\n",
    "            return [numbers_seen[target - nums[i]], i]\n",
    "        numbers_seen[nums[i]] = i\n",
    "    return numbers_seen\n",
    "#    return None\n",
    "\n",
    "target = 22\n",
    "nums = [2, 7, 11, 15]\n",
    "\n",
    "indices_for_sum(nums, target)"
   ]
  },
  {
   "cell_type": "code",
   "execution_count": 38,
   "metadata": {},
   "outputs": [
    {
     "data": {
      "text/plain": [
       "False"
      ]
     },
     "execution_count": 38,
     "metadata": {},
     "output_type": "execute_result"
    }
   ],
   "source": [
    "# Verifying if a string of Bracket is valid using Stack\n",
    "def isValid(s):\n",
    "    stack = []\n",
    "    open_chars = ['(', '{', '[']\n",
    "    closing_to_opening = {')':'(',  '}':'{', ']':'['}\n",
    "    for c in s:\n",
    "        if c in open_chars:\n",
    "            stack.append(c)\n",
    "        else:\n",
    "            open_char = closing_to_opening[c]\n",
    "            if stack and open_char == stack[-1]:\n",
    "                stack.pop()\n",
    "            else:\n",
    "                return False\n",
    "    return stack == []\n",
    "\n",
    "isValid('[([]]]')"
   ]
  },
  {
   "cell_type": "code",
   "execution_count": 37,
   "metadata": {},
   "outputs": [
    {
     "name": "stdout",
     "output_type": "stream",
     "text": [
      "4782\n"
     ]
    }
   ],
   "source": [
    "#First 1000 digits fibonacci number\n",
    "n = 1\n",
    "m = 1\n",
    "i = 2\n",
    "while n < 10**999:\n",
    "    p = m + n\n",
    "    m = n\n",
    "    n = p\n",
    "    i += 1\n",
    "    \n",
    "print(i)"
   ]
  },
  {
   "cell_type": "code",
   "execution_count": null,
   "metadata": {},
   "outputs": [],
   "source": []
  }
 ],
 "metadata": {
  "kernelspec": {
   "display_name": "Python 3",
   "language": "python",
   "name": "python3"
  },
  "language_info": {
   "codemirror_mode": {
    "name": "ipython",
    "version": 3
   },
   "file_extension": ".py",
   "mimetype": "text/x-python",
   "name": "python",
   "nbconvert_exporter": "python",
   "pygments_lexer": "ipython3",
   "version": "3.6.5"
  }
 },
 "nbformat": 4,
 "nbformat_minor": 2
}
